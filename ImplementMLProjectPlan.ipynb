{
 "cells": [
  {
   "cell_type": "markdown",
   "metadata": {},
   "source": [
    "# Lab 8: Implement Your Machine Learning Project Plan"
   ]
  },
  {
   "cell_type": "markdown",
   "metadata": {},
   "source": [
    "In this lab assignment, you will implement the machine learning project plan you created in the written assignment. You will:\n",
    "\n",
    "1. Load your data set and save it to a Pandas DataFrame.\n",
    "2. Perform exploratory data analysis on your data to determine which feature engineering and data preparation techniques you will use.\n",
    "3. Prepare your data for your model and create features and a label.\n",
    "4. Fit your model to the training data and evaluate your model.\n",
    "5. Improve your model by performing model selection and/or feature selection techniques to find best model for your problem."
   ]
  },
  {
   "cell_type": "markdown",
   "metadata": {},
   "source": [
    "### Import Packages\n",
    "\n",
    "Before you get started, import a few packages."
   ]
  },
  {
   "cell_type": "code",
   "execution_count": 68,
   "metadata": {},
   "outputs": [],
   "source": [
    "import pandas as pd\n",
    "import numpy as np\n",
    "import os \n",
    "import matplotlib.pyplot as plt\n",
    "import seaborn as sns"
   ]
  },
  {
   "cell_type": "markdown",
   "metadata": {},
   "source": [
    "<b>Task:</b> In the code cell below, import additional packages that you have used in this course that you will need for this task."
   ]
  },
  {
   "cell_type": "code",
   "execution_count": 69,
   "metadata": {},
   "outputs": [],
   "source": [
    "# YOUR CODE HERE\n",
    "from sklearn.ensemble import GradientBoostingClassifier\n",
    "from sklearn.model_selection import train_test_split\n",
    "from sklearn.metrics import roc_curve, auc\n",
    "\n",
    "from sklearn.ensemble import RandomForestRegressor\n",
    "from sklearn.model_selection import train_test_split\n",
    "from sklearn.metrics import roc_curve, auc\n",
    "from sklearn.metrics import mean_absolute_error, mean_squared_error, r2_score\n",
    "from sklearn.model_selection import GridSearchCV\n"
   ]
  },
  {
   "cell_type": "markdown",
   "metadata": {},
   "source": [
    "## Part 1: Load the Data Set\n",
    "\n",
    "\n",
    "You have chosen to work with one of four data sets. The data sets are located in a folder named \"data.\" The file names of the three data sets are as follows:\n",
    "\n",
    "* The \"adult\" data set that contains Census information from 1994 is located in file `adultData.csv`\n",
    "* The airbnb NYC \"listings\" data set is located in file  `airbnbListingsData.csv`\n",
    "* The World Happiness Report (WHR) data set is located in file `WHR2018Chapter2OnlineData.csv`\n",
    "* The book review data set is located in file `bookReviewsData.csv`\n",
    "\n",
    "\n",
    "\n",
    "<b>Task:</b> In the code cell below, use the same method you have been using to load your data using `pd.read_csv()` and save it to DataFrame `df`."
   ]
  },
  {
   "cell_type": "code",
   "execution_count": 70,
   "metadata": {},
   "outputs": [],
   "source": [
    "# load data into DataFrame \n",
    "WHRDataSet_filename = os.path.join(os.getcwd(), \"data\", \"WHR2018Chapter2OnlineData.csv\")\n",
    "df = pd.read_csv(WHRDataSet_filename)"
   ]
  },
  {
   "cell_type": "markdown",
   "metadata": {},
   "source": [
    "## Part 2: Exploratory Data Analysis\n",
    "\n",
    "The next step is to inspect and analyze your data set with your machine learning problem and project plan in mind. \n",
    "\n",
    "This step will help you determine data preparation and feature engineering techniques you will need to apply to your data to build a balanced modeling data set for your problem and model. These data preparation techniques may include:\n",
    "* addressing missingness, such as replacing missing values with means\n",
    "* renaming features and labels\n",
    "* finding and replacing outliers\n",
    "* performing winsorization if needed\n",
    "* performing one-hot encoding on categorical features\n",
    "* performing vectorization for an NLP problem\n",
    "* addressing class imbalance in your data sample to promote fair AI\n",
    "\n",
    "\n",
    "Think of the different techniques you have used to inspect and analyze your data in this course. These include using Pandas to apply data filters, using the Pandas `describe()` method to get insight into key statistics for each column, using the Pandas `dtypes` property to inspect the data type of each column, and using Matplotlib and Seaborn to detect outliers and visualize relationships between features and labels. If you are working on a classification problem, use techniques you have learned to determine if there is class imbalance.\n",
    "\n",
    "\n",
    "<b>Task</b>: Use the techniques you have learned in this course to inspect and analyze your data. \n",
    "\n",
    "<b>Note</b>: You can add code cells if needed by going to the <b>Insert</b> menu and clicking on <b>Insert Cell Below</b> in the drop-drown menu."
   ]
  },
  {
   "cell_type": "code",
   "execution_count": 71,
   "metadata": {},
   "outputs": [],
   "source": [
    "# Drop columns that are missing majority of data\n",
    "unstr_text_colnames = ['GINI index (World Bank estimate)', 'gini of household income reported in Gallup, by wp5-year']\n",
    "df.drop(columns=unstr_text_colnames, inplace=True)"
   ]
  },
  {
   "cell_type": "code",
   "execution_count": 72,
   "metadata": {},
   "outputs": [
    {
     "data": {
      "text/plain": [
       "country                                                0\n",
       "year                                                   0\n",
       "Life Ladder                                            0\n",
       "Log GDP per capita                                    27\n",
       "Social support                                        13\n",
       "Healthy life expectancy at birth                       9\n",
       "Freedom to make life choices                          29\n",
       "Generosity                                            80\n",
       "Perceptions of corruption                             90\n",
       "Positive affect                                       18\n",
       "Negative affect                                       12\n",
       "Confidence in national government                    161\n",
       "Democratic Quality                                   171\n",
       "Delivery Quality                                     171\n",
       "Standard deviation of ladder by country-year           0\n",
       "Standard deviation/Mean of ladder by country-year      0\n",
       "GINI index (World Bank estimate), average 2000-15    176\n",
       "dtype: int64"
      ]
     },
     "execution_count": 72,
     "metadata": {},
     "output_type": "execute_result"
    }
   ],
   "source": [
    "# see what data is still missing \n",
    "nan_count = np.sum(df.isnull(), axis = 0)\n",
    "nan_count"
   ]
  },
  {
   "cell_type": "code",
   "execution_count": 73,
   "metadata": {},
   "outputs": [
    {
     "data": {
      "text/plain": [
       "252     Central African Republic\n",
       "737                       Kosovo\n",
       "801                        Libya\n",
       "1031                North Cyprus\n",
       "1032                North Cyprus\n",
       "1033                North Cyprus\n",
       "1034                North Cyprus\n",
       "1035                North Cyprus\n",
       "1067     Palestinian Territories\n",
       "1247                     Somalia\n",
       "1248                     Somalia\n",
       "1249                     Somalia\n",
       "1250           Somaliland region\n",
       "1251           Somaliland region\n",
       "1252           Somaliland region\n",
       "1253           Somaliland region\n",
       "1281                 South Sudan\n",
       "1336                       Syria\n",
       "1337                       Syria\n",
       "1341    Taiwan Province of China\n",
       "1342    Taiwan Province of China\n",
       "1343    Taiwan Province of China\n",
       "1344    Taiwan Province of China\n",
       "1345    Taiwan Province of China\n",
       "1346    Taiwan Province of China\n",
       "1347    Taiwan Province of China\n",
       "1538                       Yemen\n",
       "Name: country, dtype: object"
      ]
     },
     "execution_count": 73,
     "metadata": {},
     "output_type": "execute_result"
    }
   ],
   "source": [
    "# visualize data better\n",
    "df.loc[df['Log GDP per capita'].isnull()]['country']\n",
    "\n",
    "#df.loc[df['country']==\"Central African Republic\"]\n",
    "#df.loc[df['country']==\"North Cyprus\"]\n",
    "\n",
    "\n",
    "#missing countries\n",
    "# Log GDP per capita: North Cyprus, Somalia, Somalialand region \n",
    "# Social support: Oman\n",
    "# Healthy life expectancy at birth: North Cyprus, Somalialand region\n",
    "# Generosity: Cuba, North Cyrpus, Somalia, Somalilaland Region\n",
    "# Perceptions of corruption: China, Cuba, Oman, Turkmenistan\n",
    "# Positive affect: Oman \n",
    "# Confidence in national government: \n",
    "# Democratic Quality: Kosovo, North Cyprus, Palestinian Territories, Somalialand region\n",
    "# Delivery Quality: Kosovo, North Cyprus, Palestinian Territories, Somalialand region\n",
    "# GINI index (World Bank estimate), average 2000-15: "
   ]
  },
  {
   "cell_type": "code",
   "execution_count": 74,
   "metadata": {},
   "outputs": [
    {
     "name": "stdout",
     "output_type": "stream",
     "text": [
      "1331    8.536139\n",
      "1332    8.561270\n",
      "1333    8.569223\n",
      "1334    8.589342\n",
      "1335    8.609065\n",
      "1336         NaN\n",
      "1337         NaN\n",
      "Name: Log GDP per capita, dtype: float64\n",
      "8.5730077744\n",
      "\n"
     ]
    }
   ],
   "source": [
    "#print(df.loc[df['country']==\"Syria\"]['Log GDP per capita'])\n",
    "#print(df.loc[df['country']==\"Syria\"]['Log GDP per capita'].mean())\n",
    "#print()\n",
    "\n",
    "# visualize data better \n",
    "feature = 'country'\n",
    "country = 'Syria'\n",
    "missing_feature = 'Log GDP per capita'\n",
    "print(df[df[feature]==country][missing_feature])\n",
    "mean = df[df[feature]==country][missing_feature].mean()\n",
    "print(mean)\n",
    "print()\n",
    "\n",
    "countries = set()\n",
    "for country in df['country']:\n",
    "    countries.add(country)\n",
    "#print(countries)\n",
    "\n",
    "#df['age'].fillna(value=mean_ages, inplace=True)"
   ]
  },
  {
   "cell_type": "code",
   "execution_count": 75,
   "metadata": {},
   "outputs": [],
   "source": [
    "# replace missing values with mean from each country \n",
    "\n",
    "mean_gdp=df['Log GDP per capita'].mean()\n",
    "df['Log GDP per capita'].fillna(value=mean_gdp, inplace=True)\n",
    "\n",
    "mean_ss=df['Social support'].mean()\n",
    "df['Social support'].fillna(value=mean_ss, inplace=True)\n",
    "\n",
    "mean_hlf=df['Healthy life expectancy at birth'].mean()\n",
    "df['Healthy life expectancy at birth'].fillna(value=mean_hlf, inplace=True)\n",
    "\n",
    "mean_gen=df['Generosity'].mean()\n",
    "df['Generosity'].fillna(value=mean_gen, inplace=True)\n",
    "\n",
    "mean_percep=df['Perceptions of corruption'].mean()\n",
    "df['Perceptions of corruption'].fillna(value=mean_percep, inplace=True)\n",
    "\n",
    "mean_pos=df['Positive affect'].mean()\n",
    "df['Positive affect'].fillna(value=mean_pos, inplace=True)\n",
    "\n",
    "mean_conf=df['Confidence in national government'].mean()\n",
    "df['Confidence in national government'].fillna(value=mean_conf, inplace=True)\n",
    "\n",
    "mean_dem=df['Democratic Quality'].mean()\n",
    "df['Democratic Quality'].fillna(value=mean_dem, inplace=True)\n",
    "\n",
    "mean_del=df['Delivery Quality'].mean()\n",
    "df['Delivery Quality'].fillna(value=mean_del, inplace=True)\n",
    "\n",
    "#maybe drop? \n",
    "mean_gini=df['GINI index (World Bank estimate), average 2000-15'].mean()\n",
    "df['GINI index (World Bank estimate), average 2000-15'].fillna(value=mean_gini, inplace=True)"
   ]
  },
  {
   "cell_type": "code",
   "execution_count": 76,
   "metadata": {},
   "outputs": [
    {
     "data": {
      "text/plain": [
       "year                                                 0\n",
       "Life Ladder                                          0\n",
       "Log GDP per capita                                   0\n",
       "Social support                                       0\n",
       "Healthy life expectancy at birth                     0\n",
       "Freedom to make life choices                         0\n",
       "Generosity                                           0\n",
       "Perceptions of corruption                            0\n",
       "Positive affect                                      0\n",
       "Negative affect                                      0\n",
       "Confidence in national government                    0\n",
       "Democratic Quality                                   0\n",
       "Delivery Quality                                     0\n",
       "Standard deviation of ladder by country-year         0\n",
       "Standard deviation/Mean of ladder by country-year    0\n",
       "GINI index (World Bank estimate), average 2000-15    0\n",
       "dtype: int64"
      ]
     },
     "execution_count": 76,
     "metadata": {},
     "output_type": "execute_result"
    }
   ],
   "source": [
    "# replace remaining missing values with mean\n",
    "grouped = df.groupby('country')\n",
    "df_filled = grouped.transform(lambda x: x.fillna(x.mean()))\n",
    "\n",
    "# Keep the original country column intact\n",
    "#df_filled['country'] = df['country']\n",
    "# Put country back as first column\n",
    "#column_order = ['country'] + [col for col in df_filled.columns if col != 'country']\n",
    "#df_filled = df_filled[column_order]\n",
    "\n",
    "nan_count = np.sum(df_filled.isnull(), axis = 0)\n",
    "nan_count\n",
    "\n",
    "df_filled.head()\n",
    "#df.head()\n",
    "nan_count = np.sum(df_filled.isnull(), axis = 0)\n",
    "nan_count\n"
   ]
  },
  {
   "cell_type": "code",
   "execution_count": 77,
   "metadata": {},
   "outputs": [
    {
     "data": {
      "text/html": [
       "<div>\n",
       "<style scoped>\n",
       "    .dataframe tbody tr th:only-of-type {\n",
       "        vertical-align: middle;\n",
       "    }\n",
       "\n",
       "    .dataframe tbody tr th {\n",
       "        vertical-align: top;\n",
       "    }\n",
       "\n",
       "    .dataframe thead th {\n",
       "        text-align: right;\n",
       "    }\n",
       "</style>\n",
       "<table border=\"1\" class=\"dataframe\">\n",
       "  <thead>\n",
       "    <tr style=\"text-align: right;\">\n",
       "      <th></th>\n",
       "      <th>year</th>\n",
       "      <th>Life Ladder</th>\n",
       "      <th>Log GDP per capita</th>\n",
       "      <th>Social support</th>\n",
       "      <th>Healthy life expectancy at birth</th>\n",
       "      <th>Freedom to make life choices</th>\n",
       "      <th>Generosity</th>\n",
       "      <th>Perceptions of corruption</th>\n",
       "      <th>Positive affect</th>\n",
       "      <th>Negative affect</th>\n",
       "      <th>Confidence in national government</th>\n",
       "      <th>Democratic Quality</th>\n",
       "      <th>Delivery Quality</th>\n",
       "      <th>Standard deviation of ladder by country-year</th>\n",
       "      <th>Standard deviation/Mean of ladder by country-year</th>\n",
       "      <th>GINI index (World Bank estimate), average 2000-15</th>\n",
       "    </tr>\n",
       "  </thead>\n",
       "  <tbody>\n",
       "  </tbody>\n",
       "</table>\n",
       "</div>"
      ],
      "text/plain": [
       "Empty DataFrame\n",
       "Columns: [year, Life Ladder, Log GDP per capita, Social support, Healthy life expectancy at birth, Freedom to make life choices, Generosity, Perceptions of corruption, Positive affect, Negative affect, Confidence in national government, Democratic Quality, Delivery Quality, Standard deviation of ladder by country-year, Standard deviation/Mean of ladder by country-year, GINI index (World Bank estimate), average 2000-15]\n",
       "Index: []"
      ]
     },
     "execution_count": 77,
     "metadata": {},
     "output_type": "execute_result"
    }
   ],
   "source": [
    "#df_filled.loc[df_filled['Delivery Quality'].isnull()]['country']\n",
    "df_filled.loc[df_filled['Delivery Quality'].isnull()]"
   ]
  },
  {
   "cell_type": "code",
   "execution_count": null,
   "metadata": {},
   "outputs": [],
   "source": []
  },
  {
   "cell_type": "markdown",
   "metadata": {},
   "source": [
    "## Part 3: Implement Your Project Plan\n",
    "\n",
    "<b>Task:</b> Use the rest of this notebook to carry out your project plan. You will:\n",
    "\n",
    "1. Prepare your data for your model and create features and a label.\n",
    "2. Fit your model to the training data and evaluate your model.\n",
    "3. Improve your model by performing model selection and/or feature selection techniques to find best model for your problem.\n",
    "\n",
    "\n",
    "Add code cells below and populate the notebook with commentary, code, analyses, results, and figures as you see fit."
   ]
  },
  {
   "cell_type": "code",
   "execution_count": 78,
   "metadata": {},
   "outputs": [],
   "source": [
    "df = df_filled\n",
    "\n",
    "# Life Ladder is label \n",
    "# used to measure happiness\n",
    "y = df['Life Ladder'] \n",
    "X = df.drop(columns = 'Life Ladder', axis=1)"
   ]
  },
  {
   "cell_type": "code",
   "execution_count": 79,
   "metadata": {},
   "outputs": [
    {
     "data": {
      "text/html": [
       "<div>\n",
       "<style scoped>\n",
       "    .dataframe tbody tr th:only-of-type {\n",
       "        vertical-align: middle;\n",
       "    }\n",
       "\n",
       "    .dataframe tbody tr th {\n",
       "        vertical-align: top;\n",
       "    }\n",
       "\n",
       "    .dataframe thead th {\n",
       "        text-align: right;\n",
       "    }\n",
       "</style>\n",
       "<table border=\"1\" class=\"dataframe\">\n",
       "  <thead>\n",
       "    <tr style=\"text-align: right;\">\n",
       "      <th></th>\n",
       "      <th>year</th>\n",
       "      <th>Log GDP per capita</th>\n",
       "      <th>Social support</th>\n",
       "      <th>Healthy life expectancy at birth</th>\n",
       "      <th>Freedom to make life choices</th>\n",
       "      <th>Generosity</th>\n",
       "      <th>Perceptions of corruption</th>\n",
       "      <th>Positive affect</th>\n",
       "      <th>Negative affect</th>\n",
       "      <th>Confidence in national government</th>\n",
       "      <th>Democratic Quality</th>\n",
       "      <th>Delivery Quality</th>\n",
       "      <th>Standard deviation of ladder by country-year</th>\n",
       "      <th>Standard deviation/Mean of ladder by country-year</th>\n",
       "      <th>GINI index (World Bank estimate), average 2000-15</th>\n",
       "    </tr>\n",
       "  </thead>\n",
       "  <tbody>\n",
       "    <tr>\n",
       "      <th>1326</th>\n",
       "      <td>2012</td>\n",
       "      <td>10.935776</td>\n",
       "      <td>0.946864</td>\n",
       "      <td>72.734001</td>\n",
       "      <td>0.945428</td>\n",
       "      <td>0.125727</td>\n",
       "      <td>0.323241</td>\n",
       "      <td>0.859107</td>\n",
       "      <td>0.176007</td>\n",
       "      <td>0.769940</td>\n",
       "      <td>1.529229</td>\n",
       "      <td>1.879037</td>\n",
       "      <td>1.564781</td>\n",
       "      <td>0.201227</td>\n",
       "      <td>0.327571</td>\n",
       "    </tr>\n",
       "    <tr>\n",
       "      <th>1069</th>\n",
       "      <td>2007</td>\n",
       "      <td>9.542232</td>\n",
       "      <td>0.937078</td>\n",
       "      <td>66.400909</td>\n",
       "      <td>0.640219</td>\n",
       "      <td>0.091073</td>\n",
       "      <td>0.915287</td>\n",
       "      <td>0.819987</td>\n",
       "      <td>0.149341</td>\n",
       "      <td>0.250142</td>\n",
       "      <td>0.280292</td>\n",
       "      <td>0.015082</td>\n",
       "      <td>2.270610</td>\n",
       "      <td>0.329354</td>\n",
       "      <td>0.536750</td>\n",
       "    </tr>\n",
       "    <tr>\n",
       "      <th>520</th>\n",
       "      <td>2017</td>\n",
       "      <td>10.117517</td>\n",
       "      <td>0.752900</td>\n",
       "      <td>71.780342</td>\n",
       "      <td>0.438300</td>\n",
       "      <td>-0.296735</td>\n",
       "      <td>0.872239</td>\n",
       "      <td>0.602939</td>\n",
       "      <td>0.332831</td>\n",
       "      <td>0.139881</td>\n",
       "      <td>-0.126617</td>\n",
       "      <td>0.004947</td>\n",
       "      <td>2.411631</td>\n",
       "      <td>0.468438</td>\n",
       "      <td>0.346909</td>\n",
       "    </tr>\n",
       "    <tr>\n",
       "      <th>643</th>\n",
       "      <td>2017</td>\n",
       "      <td>11.066487</td>\n",
       "      <td>0.943482</td>\n",
       "      <td>71.709785</td>\n",
       "      <td>0.905341</td>\n",
       "      <td>0.206802</td>\n",
       "      <td>0.337085</td>\n",
       "      <td>0.833389</td>\n",
       "      <td>0.212784</td>\n",
       "      <td>0.603800</td>\n",
       "      <td>-0.126617</td>\n",
       "      <td>0.004947</td>\n",
       "      <td>1.761334</td>\n",
       "      <td>0.249475</td>\n",
       "      <td>0.325545</td>\n",
       "    </tr>\n",
       "    <tr>\n",
       "      <th>446</th>\n",
       "      <td>2008</td>\n",
       "      <td>10.659014</td>\n",
       "      <td>0.951340</td>\n",
       "      <td>69.745049</td>\n",
       "      <td>0.934179</td>\n",
       "      <td>0.015997</td>\n",
       "      <td>0.216568</td>\n",
       "      <td>0.772778</td>\n",
       "      <td>0.143539</td>\n",
       "      <td>0.723243</td>\n",
       "      <td>1.454463</td>\n",
       "      <td>1.980400</td>\n",
       "      <td>1.420638</td>\n",
       "      <td>0.185205</td>\n",
       "      <td>0.275909</td>\n",
       "    </tr>\n",
       "  </tbody>\n",
       "</table>\n",
       "</div>"
      ],
      "text/plain": [
       "      year  Log GDP per capita  Social support  \\\n",
       "1326  2012           10.935776        0.946864   \n",
       "1069  2007            9.542232        0.937078   \n",
       "520   2017           10.117517        0.752900   \n",
       "643   2017           11.066487        0.943482   \n",
       "446   2008           10.659014        0.951340   \n",
       "\n",
       "      Healthy life expectancy at birth  Freedom to make life choices  \\\n",
       "1326                         72.734001                      0.945428   \n",
       "1069                         66.400909                      0.640219   \n",
       "520                          71.780342                      0.438300   \n",
       "643                          71.709785                      0.905341   \n",
       "446                          69.745049                      0.934179   \n",
       "\n",
       "      Generosity  Perceptions of corruption  Positive affect  Negative affect  \\\n",
       "1326    0.125727                   0.323241         0.859107         0.176007   \n",
       "1069    0.091073                   0.915287         0.819987         0.149341   \n",
       "520    -0.296735                   0.872239         0.602939         0.332831   \n",
       "643     0.206802                   0.337085         0.833389         0.212784   \n",
       "446     0.015997                   0.216568         0.772778         0.143539   \n",
       "\n",
       "      Confidence in national government  Democratic Quality  Delivery Quality  \\\n",
       "1326                           0.769940            1.529229          1.879037   \n",
       "1069                           0.250142            0.280292          0.015082   \n",
       "520                            0.139881           -0.126617          0.004947   \n",
       "643                            0.603800           -0.126617          0.004947   \n",
       "446                            0.723243            1.454463          1.980400   \n",
       "\n",
       "      Standard deviation of ladder by country-year  \\\n",
       "1326                                      1.564781   \n",
       "1069                                      2.270610   \n",
       "520                                       2.411631   \n",
       "643                                       1.761334   \n",
       "446                                       1.420638   \n",
       "\n",
       "      Standard deviation/Mean of ladder by country-year  \\\n",
       "1326                                           0.201227   \n",
       "1069                                           0.329354   \n",
       "520                                            0.468438   \n",
       "643                                            0.249475   \n",
       "446                                            0.185205   \n",
       "\n",
       "      GINI index (World Bank estimate), average 2000-15  \n",
       "1326                                           0.327571  \n",
       "1069                                           0.536750  \n",
       "520                                            0.346909  \n",
       "643                                            0.325545  \n",
       "446                                            0.275909  "
      ]
     },
     "execution_count": 79,
     "metadata": {},
     "output_type": "execute_result"
    }
   ],
   "source": [
    "X_train, X_test, y_train, y_test = train_test_split(X, y, test_size=0.33, random_state=1234)\n",
    "\n",
    "X_train.head()"
   ]
  },
  {
   "cell_type": "code",
   "execution_count": 80,
   "metadata": {},
   "outputs": [
    {
     "name": "stdout",
     "output_type": "stream",
     "text": [
      "Begin Random Forest Implementation...\n",
      "End\n"
     ]
    }
   ],
   "source": [
    "print('Begin Random Forest Implementation...')\n",
    "\n",
    "# 1. Create the RandomForestRegressor model object below and assign to variable 'rf_20_model'\n",
    "rf_20_model = RandomForestRegressor(criterion='mse', n_estimators=20)\n",
    "\n",
    "# 2. Fit the model to the training data below\n",
    "rf_20_model.fit(X_train, y_train)\n",
    "\n",
    "# 3. Make predictions on the test data and assign the result to a list named 'rf_20_predictions' below\n",
    "rf_20_predictions = rf_20_model.predict(X_test)\n",
    "\n",
    "# 4. Create the RandomForestRegressor model object below and assign to variable 'rf_100_model'\n",
    "rf_100_model = RandomForestRegressor(criterion='mse', n_estimators=100)\n",
    "\n",
    "# 5. Fit the model to the training data below\n",
    "rf_100_model.fit(X_train, y_train)\n",
    "\n",
    "# 6. Make predictions on the test data and assign the result to a list named 'rf_100_predictions' below\n",
    "rf_100_predictions = rf_100_model.predict(X_test)\n",
    "\n",
    "print('End')"
   ]
  },
  {
   "cell_type": "code",
   "execution_count": 81,
   "metadata": {},
   "outputs": [
    {
     "name": "stdout",
     "output_type": "stream",
     "text": [
      "Mean Absolute Error (RF 20): 0.15570839150252103\n",
      "Mean Absolute Error (RF 100): 0.15002399633802965\n",
      "\n",
      "Mean Squared Error (RF 20): 0.04576874188308519\n",
      "Mean Squared Error (RF 100): 0.042436056413926254\n",
      "\n",
      "Root Mean Squared Error (RF 20): 0.2139363033313542\n",
      "Root Mean Squared Error (RF 100): 0.20600013692695995\n",
      "\n",
      "R-squared (RF 20): 0.9640713369676313\n",
      "R-squared (RF 100): 0.9666875096717041\n"
     ]
    }
   ],
   "source": [
    "# Calculate predictions for rf_20_model and rf_100_model\n",
    "rf_20_predictions = rf_20_model.predict(X_test)\n",
    "rf_100_predictions = rf_100_model.predict(X_test)\n",
    "\n",
    "# Calculate evaluation metrics\n",
    "mae_rf_20 = mean_absolute_error(y_test, rf_20_predictions)\n",
    "mae_rf_100 = mean_absolute_error(y_test, rf_100_predictions)\n",
    "\n",
    "mse_rf_20 = mean_squared_error(y_test, rf_20_predictions)\n",
    "mse_rf_100 = mean_squared_error(y_test, rf_100_predictions)\n",
    "\n",
    "rmse_rf_20 = mse_rf_20 ** 0.5\n",
    "rmse_rf_100 = mse_rf_100 ** 0.5\n",
    "\n",
    "r2_rf_20 = r2_score(y_test, rf_20_predictions)\n",
    "r2_rf_100 = r2_score(y_test, rf_100_predictions)\n",
    "\n",
    "print('Mean Absolute Error (RF 20):', mae_rf_20)\n",
    "print('Mean Absolute Error (RF 100):', mae_rf_100)\n",
    "print()\n",
    "print('Mean Squared Error (RF 20):', mse_rf_20)\n",
    "print('Mean Squared Error (RF 100):', mse_rf_100)\n",
    "print()\n",
    "print('Root Mean Squared Error (RF 20):', rmse_rf_20)\n",
    "print('Root Mean Squared Error (RF 100):', rmse_rf_100)\n",
    "print()\n",
    "print('R-squared (RF 20):', r2_rf_20)\n",
    "print('R-squared (RF 100):', r2_rf_100)"
   ]
  },
  {
   "cell_type": "code",
   "execution_count": 82,
   "metadata": {},
   "outputs": [
    {
     "data": {
      "image/png": "[encoded data removed]",
      "text/plain": [
       "<Figure size 720x432 with 1 Axes>"
      ]
     },
     "metadata": {
      "needs_background": "light"
     },
     "output_type": "display_data"
    }
   ],
   "source": [
    "# Scatter Plot - Predicted vs. Actual Values\n",
    "plt.figure(figsize=(10, 6))\n",
    "plt.scatter(y_test, rf_20_predictions, alpha=0.6)\n",
    "plt.xlabel('Actual Values')\n",
    "plt.ylabel('Predicted Values')\n",
    "plt.title('Predicted vs. Actual Values')\n",
    "plt.show()"
   ]
  },
  {
   "cell_type": "code",
   "execution_count": 83,
   "metadata": {},
   "outputs": [
    {
     "data": {
      "image/png": "[encoded data removed]",
      "text/plain": [
       "<Figure size 720x432 with 1 Axes>"
      ]
     },
     "metadata": {
      "needs_background": "light"
     },
     "output_type": "display_data"
    }
   ],
   "source": [
    "# Scatter Plot - Predicted vs. Actual Values\n",
    "plt.figure(figsize=(10, 6))\n",
    "plt.scatter(y_test, rf_100_predictions, alpha=0.6)\n",
    "plt.xlabel('Actual Values')\n",
    "plt.ylabel('Predicted Values')\n",
    "plt.title('Predicted vs. Actual Values')\n",
    "plt.show()"
   ]
  },
  {
   "cell_type": "code",
   "execution_count": 84,
   "metadata": {},
   "outputs": [],
   "source": [
    "param_grid = {\n",
    "    'n_estimators': [50, 100, 150],\n",
    "    'max_depth': [None, 10, 20],\n",
    "    'min_samples_split': [2, 5, 10]\n",
    "}\n",
    "\n",
    "grid_search = GridSearchCV(estimator=rf_20_model, param_grid=param_grid, scoring='neg_mean_squared_error', cv=5)\n",
    "\n",
    "# Fit the grid search to the data\n",
    "grid_search.fit(X_train, y_train)\n",
    "\n",
    "# Get the best parameters and best model\n",
    "best_params = grid_search.best_params_\n",
    "best_model = grid_search.best_estimator_"
   ]
  },
  {
   "cell_type": "code",
   "execution_count": 85,
   "metadata": {},
   "outputs": [
    {
     "data": {
      "text/plain": [
       "RandomForestRegressor(bootstrap=True, ccp_alpha=0.0, criterion='mse',\n",
       "                      max_depth=20, max_features='auto', max_leaf_nodes=None,\n",
       "                      max_samples=None, min_impurity_decrease=0.0,\n",
       "                      min_impurity_split=None, min_samples_leaf=1,\n",
       "                      min_samples_split=2, min_weight_fraction_leaf=0.0,\n",
       "                      n_estimators=150, n_jobs=None, oob_score=False,\n",
       "                      random_state=None, verbose=0, warm_start=False)"
      ]
     },
     "execution_count": 85,
     "metadata": {},
     "output_type": "execute_result"
    }
   ],
   "source": [
    "best_model"
   ]
  },
  {
   "cell_type": "code",
   "execution_count": 86,
   "metadata": {},
   "outputs": [],
   "source": [
    "# Set the best parameters for the best_model\n",
    "best_model.set_params(**best_params)\n",
    "\n",
    "# Train the final model on the entire training dataset\n",
    "best_model.fit(X_train, y_train)\n",
    "\n",
    "# Make predictions on the test dataset\n",
    "y_pred = best_model.predict(X_test)"
   ]
  },
  {
   "cell_type": "code",
   "execution_count": 87,
   "metadata": {},
   "outputs": [
    {
     "name": "stdout",
     "output_type": "stream",
     "text": [
      "New Model Performance:\n",
      "Mean Squared Error: 0.041929156805857716\n",
      "R-squared: 0.9670854280863299\n"
     ]
    }
   ],
   "source": [
    "mse = mean_squared_error(y_test, y_pred)\n",
    "r2 = r2_score(y_test, y_pred)\n",
    "\n",
    "print(\"New Model Performance:\")\n",
    "print(\"Mean Squared Error:\", mse)\n",
    "print(\"R-squared:\", r2)"
   ]
  },
  {
   "cell_type": "code",
   "execution_count": 88,
   "metadata": {
    "scrolled": true
   },
   "outputs": [
    {
     "data": {
      "image/png": "[encoded data removed]",
      "text/plain": [
       "<Figure size 720x432 with 1 Axes>"
      ]
     },
     "metadata": {
      "needs_background": "light"
     },
     "output_type": "display_data"
    }
   ],
   "source": [
    "# Scatter Plot - Predicted vs. Actual Values\n",
    "plt.figure(figsize=(10, 6))\n",
    "plt.scatter(y_test, y_pred, alpha=0.6)\n",
    "plt.xlabel('Actual Values')\n",
    "plt.ylabel('Predicted Values')\n",
    "plt.title('Predicted vs. Actual Values')\n",
    "plt.show()"
   ]
  },
  {
   "cell_type": "code",
   "execution_count": 89,
   "metadata": {},
   "outputs": [],
   "source": [
    "# Comments on process \n",
    "\n",
    "# From my original plan, I changed the label and the model type. \n",
    "# I changed the label from healthy life expectancy to life ladder because life ladder was \n",
    "# not originally missing any data, so I thought it would be easier to show how correct the \n",
    "# model was. \n",
    "\n",
    "# I also changed the model type a few times. My orignal plan was to do a decision tree. Then, \n",
    "# I tried a gradient boosted decision tree before finally deciding on a random forest. \n",
    "# After preparing the data, mainly through techniques such as removing columns that were \n",
    "# missing too much data and replacing missing values, I trained and fit the model. I made 2 \n",
    "# random forest models, one with 20 estimators and one with 100. After analyzing the results, \n",
    "# I found that the model with 100 estimators performed better, with a mean squared error of \n",
    "# .04568 compared to .04244 and an r squared of .964 compared to .967. I plotted these \n",
    "# results to better visualize the model's performance and compare the two results.\n",
    "\n",
    "# I wanted to see how this model could be improved, so I used gridsearchcv with different \n",
    "# values to find the best parameters and model. I used the same technique to visualize the results\n",
    "# on a plot. The resulting model had a mean squared error of .0419 and an r squared of .967, \n",
    "# which was slightly better than the original random forest with 100 estimators. Therefore, \n",
    "# I would use this as my final model. "
   ]
  }
 ],
 "metadata": {
  "kernelspec": {
   "display_name": "Python 3",
   "language": "python",
   "name": "python3"
  },
  "language_info": {
   "codemirror_mode": {
    "name": "ipython",
    "version": 3
   },
   "file_extension": ".py",
   "mimetype": "text/x-python",
   "name": "python",
   "nbconvert_exporter": "python",
   "pygments_lexer": "ipython3",
   "version": "3.6.9"
  },
  "toc": {
   "base_numbering": 1,
   "nav_menu": {},
   "number_sections": false,
   "sideBar": true,
   "skip_h1_title": false,
   "title_cell": "Table of Contents",
   "title_sidebar": "Contents",
   "toc_cell": false,
   "toc_position": {},
   "toc_section_display": true,
   "toc_window_display": false
  },
  "varInspector": {
   "cols": {
    "lenName": 16,
    "lenType": 16,
    "lenVar": 40
   },
   "kernels_config": {
    "python": {
     "delete_cmd_postfix": "",
     "delete_cmd_prefix": "del ",
     "library": "var_list.py",
     "varRefreshCmd": "print(var_dic_list())"
    },
    "r": {
     "delete_cmd_postfix": ") ",
     "delete_cmd_prefix": "rm(",
     "library": "var_list.r",
     "varRefreshCmd": "cat(var_dic_list()) "
    }
   },
   "types_to_exclude": [
    "module",
    "function",
    "builtin_function_or_method",
    "instance",
    "_Feature"
   ],
   "window_display": false
  }
 },
 "nbformat": 4,
 "nbformat_minor": 2
}
